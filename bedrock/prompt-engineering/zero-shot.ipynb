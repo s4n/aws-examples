{
 "cells": [
  {
   "cell_type": "code",
   "execution_count": 3,
   "id": "63813d34-0f58-4589-8227-29c7942ed577",
   "metadata": {},
   "outputs": [],
   "source": [
    "import json\n",
    "import os\n",
    "import sys\n",
    "\n",
    "import boto3\n",
    "import botocore"
   ]
  },
  {
   "cell_type": "code",
   "execution_count": 4,
   "id": "424c2c2f-5b5d-48d5-9766-98bf7e349d7e",
   "metadata": {},
   "outputs": [],
   "source": [
    "bedrock = boto3.client(\"bedrock-runtime\")"
   ]
  },
  {
   "cell_type": "code",
   "execution_count": 5,
   "id": "2900c166-ef3e-4df8-95cf-11dc4e4fdf0a",
   "metadata": {},
   "outputs": [],
   "source": [
    "prompt_data = \"\"\" Human: \n",
    "Sulfuric acid reacts with sodium chloride, and gives <chemical1>_____</chemical1> and <chemical2>_____</chemical2>:\n",
    "Assistant: the chemical1 and chemical 2 are:\n",
    "\"\"\""
   ]
  },
  {
   "cell_type": "code",
   "execution_count": 6,
   "id": "74171ca6-a9a8-48c8-9dd7-11d366278bf7",
   "metadata": {},
   "outputs": [],
   "source": [
    "body = json.dumps(\n",
    "    {\n",
    "        \"inputText\": prompt_data,\n",
    "        \"textGenerationConfig\": {\"maxTokenCount\": 1024, \"topP\": 0.95, \"temperature\": 0.1},\n",
    "    }\n",
    ")"
   ]
  },
  {
   "cell_type": "code",
   "execution_count": 16,
   "id": "db08defd-f4b0-49c8-b6ea-f5b1f5e6b31e",
   "metadata": {},
   "outputs": [
    {
     "name": "stdout",
     "output_type": "stream",
     "text": [
      "\t\t\u001b[31m**Chunk 1**\u001b[0m\n",
      "Sulfuric acid reacts with sodium chloride, and gives <chemical1>Sodium sulfate</chemical1> and <chemical2>Hydrochloric acid</chemical2>:\n",
      "\n"
     ]
    }
   ],
   "source": [
    "output = []\n",
    "modelId = \"amazon.titan-text-express-v1\"  # \"amazon.titan-tg1-large\"\n",
    "accept = \"application/json\"\n",
    "contentType = \"application/json\"\n",
    "outputText = \"\\n\"\n",
    "try:\n",
    "\n",
    "    response = bedrock.invoke_model_with_response_stream(\n",
    "        body=body, modelId=modelId, accept=accept, contentType=contentType\n",
    "    )\n",
    "    stream = response.get(\"body\")\n",
    "\n",
    "    i = 1\n",
    "    if stream:\n",
    "        for event in stream:\n",
    "            chunk = event.get(\"chunk\")\n",
    "            if chunk:\n",
    "                chunk_obj = json.loads(chunk.get(\"bytes\").decode())\n",
    "                text = chunk_obj[\"outputText\"]\n",
    "                output.append(text)\n",
    "                print(f\"\\t\\t\\x1b[31m**Chunk {i}**\\x1b[0m\\n{text}\\n\")\n",
    "                i += 1\n",
    "\n",
    "except botocore.exceptions.ClientError as error:\n",
    "\n",
    "    if error.response[\"Error\"][\"Code\"] == \"AccessDeniedException\":\n",
    "        print(\n",
    "            f\"\\x1b[41m{error.response['Error']['Message']}\\\n",
    "                \\nTo troubeshoot this issue please refer to the following resources.\\\n",
    "                 \\nhttps://docs.aws.amazon.com/IAM/latest/UserGuide/troubleshoot_access-denied.html\\\n",
    "                 \\nhttps://docs.aws.amazon.com/bedrock/latest/userguide/security-iam.html\\x1b[0m\\n\"\n",
    "        )\n",
    "\n",
    "    else:\n",
    "        raise error"
   ]
  },
  {
   "cell_type": "code",
   "execution_count": null,
   "id": "40386fb2-ed2d-4b59-8a83-f9e1a56adb99",
   "metadata": {},
   "outputs": [],
   "source": []
  }
 ],
 "metadata": {
  "kernelspec": {
   "display_name": "Python 3 (ipykernel)",
   "language": "python",
   "name": "python3"
  },
  "language_info": {
   "codemirror_mode": {
    "name": "ipython",
    "version": 3
   },
   "file_extension": ".py",
   "mimetype": "text/x-python",
   "name": "python",
   "nbconvert_exporter": "python",
   "pygments_lexer": "ipython3",
   "version": "3.11.11"
  }
 },
 "nbformat": 4,
 "nbformat_minor": 5
}
