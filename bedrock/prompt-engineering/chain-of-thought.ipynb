{
 "cells": [
  {
   "cell_type": "code",
   "execution_count": 1,
   "id": "40c8adf0-1e0f-4911-befb-681b8bdd0ba6",
   "metadata": {},
   "outputs": [],
   "source": [
    "import json\n",
    "import os\n",
    "import sys\n",
    "\n",
    "import boto3\n",
    "import botocore"
   ]
  },
  {
   "cell_type": "code",
   "execution_count": 2,
   "id": "92fa48a8-ca5f-42bc-bbb6-13a3ef1f1c06",
   "metadata": {},
   "outputs": [],
   "source": [
    "bedrock = boto3.client(\"bedrock-runtime\")"
   ]
  },
  {
   "cell_type": "code",
   "execution_count": 18,
   "id": "2f98e9e9-1b59-4e4e-94b3-a17ab35c686d",
   "metadata": {},
   "outputs": [],
   "source": [
    "prompt_data = \"\"\" You are a virtual tour guide from 1901. You have tourists visiting Eiffel Tower. Describe Eiffel Tower to your audience. Begin with\n",
    "1. Why it was built\n",
    "2. Then by how long it took them to build\n",
    "3. Where were the materials sourced to build\n",
    "4. Number of people it took to build\n",
    "5. End it with the number of people visiting the Eiffel tour annually in the 1900's, the amount of time it completes a full tour and why so many people visit this place each year.\n",
    "Make your tour funny by including 1 or 2 funny jokes at the end of the tour.\n",
    "\"\"\""
   ]
  },
  {
   "cell_type": "code",
   "execution_count": 19,
   "id": "a41804d2-9c50-4933-b5e8-0344374ec3bd",
   "metadata": {},
   "outputs": [],
   "source": [
    "body = json.dumps(\n",
    "    {\n",
    "        \"prompt\": prompt_data\n",
    "    }\n",
    ")"
   ]
  },
  {
   "cell_type": "code",
   "execution_count": null,
   "id": "f6f6d28b-c8a1-4030-abed-500bc6f1b5e7",
   "metadata": {},
   "outputs": [],
   "source": [
    "output = []\n",
    "modelId = \"meta.llama3-8b-instruct-v1:0\"  # \"amazon.titan-tg1-large\", \"amazon.titan-text-express-v1\"\n",
    "accept = \"application/json\"\n",
    "contentType = \"application/json\"\n",
    "outputText = \"\\n\"\n",
    "try:\n",
    "\n",
    "    response = bedrock.invoke_model(\n",
    "        body=body, modelId=modelId\n",
    "    )\n",
    "    response_body = json.loads(response.get(\"body\").read())\n",
    "\n",
    "    print(response_body)\n",
    "    outputText = response_body.get(\"generation\")\n",
    "    print(outputText)\n",
    "\n",
    "except botocore.exceptions.ClientError as error:\n",
    "\n",
    "    if error.response[\"Error\"][\"Code\"] == \"AccessDeniedException\":\n",
    "        print(\n",
    "            f\"\\x1b[41m{error.response['Error']['Message']}\\\n",
    "                \\nTo troubeshoot this issue please refer to the following resources.\\\n",
    "                 \\nhttps://docs.aws.amazon.com/IAM/latest/UserGuide/troubleshoot_access-denied.html\\\n",
    "                 \\nhttps://docs.aws.amazon.com/bedrock/latest/userguide/security-iam.html\\x1b[0m\\n\"\n",
    "        )\n",
    "\n",
    "    else:\n",
    "        raise error"
   ]
  },
  {
   "cell_type": "code",
   "execution_count": null,
   "id": "fabea011-a818-40f6-93d9-1cb0224f20d6",
   "metadata": {},
   "outputs": [],
   "source": []
  }
 ],
 "metadata": {
  "kernelspec": {
   "display_name": "Python 3 (ipykernel)",
   "language": "python",
   "name": "python3"
  },
  "language_info": {
   "codemirror_mode": {
    "name": "ipython",
    "version": 3
   },
   "file_extension": ".py",
   "mimetype": "text/x-python",
   "name": "python",
   "nbconvert_exporter": "python",
   "pygments_lexer": "ipython3",
   "version": "3.11.11"
  }
 },
 "nbformat": 4,
 "nbformat_minor": 5
}
