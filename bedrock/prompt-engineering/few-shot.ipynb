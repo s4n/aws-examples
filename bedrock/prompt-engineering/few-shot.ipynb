{
 "cells": [
  {
   "cell_type": "code",
   "execution_count": 1,
   "id": "45d9ab23-29de-4da4-a35f-a72cf5ae9f23",
   "metadata": {},
   "outputs": [],
   "source": [
    "import json\n",
    "import os\n",
    "import sys\n",
    "\n",
    "import boto3\n",
    "import botocore"
   ]
  },
  {
   "cell_type": "code",
   "execution_count": 2,
   "id": "a1f4c226-3a54-48eb-a5af-331b9dc6ff06",
   "metadata": {},
   "outputs": [],
   "source": [
    "bedrock = boto3.client(\"bedrock-runtime\")"
   ]
  },
  {
   "cell_type": "code",
   "execution_count": 3,
   "id": "23a8fc77-e470-47b5-b051-a316a7e69536",
   "metadata": {},
   "outputs": [],
   "source": [
    "prompt_data = \"\"\" Tweet: \"I hate it when my phone battery dies.”: Sentiment: Negative\n",
    "Tweet: \"My day has been great”: Sentiment: Positive\n",
    "Tweet: \"This is the link to the article”: Sentiment: Neutral\n",
    "Tweet: \"This new music video was incredible” Sentiment:\n",
    "\"\"\""
   ]
  },
  {
   "cell_type": "code",
   "execution_count": 7,
   "id": "bb36a9bb-25b9-4384-a96f-2df9a2cc575a",
   "metadata": {},
   "outputs": [],
   "source": [
    "body = json.dumps(\n",
    "    {\n",
    "        \"inputText\": prompt_data\n",
    "    }\n",
    ")"
   ]
  },
  {
   "cell_type": "code",
   "execution_count": 8,
   "id": "8b944aaf-8a22-44b0-8557-cb1b6dbc8c5e",
   "metadata": {},
   "outputs": [
    {
     "name": "stdout",
     "output_type": "stream",
     "text": [
      "\t\t\u001b[31m**Chunk 1**\u001b[0m\n",
      "Positive\n",
      "\n"
     ]
    }
   ],
   "source": [
    "output = []\n",
    "modelId = \"amazon.titan-text-express-v1\"  # \"amazon.titan-tg1-large\", \"amazon.titan-text-express-v1\"\n",
    "accept = \"application/json\"\n",
    "contentType = \"application/json\"\n",
    "outputText = \"\\n\"\n",
    "try:\n",
    "\n",
    "    response = bedrock.invoke_model_with_response_stream(\n",
    "        body=body, modelId=modelId\n",
    "    )\n",
    "    stream = response.get(\"body\")\n",
    "\n",
    "    i = 1\n",
    "    if stream:\n",
    "        for event in stream:\n",
    "            chunk = event.get(\"chunk\")\n",
    "            if chunk:\n",
    "                chunk_obj = json.loads(chunk.get(\"bytes\").decode())\n",
    "                text = chunk_obj[\"outputText\"]\n",
    "                output.append(text)\n",
    "                print(f\"\\t\\t\\x1b[31m**Chunk {i}**\\x1b[0m\\n{text}\\n\")\n",
    "                i += 1\n",
    "\n",
    "except botocore.exceptions.ClientError as error:\n",
    "\n",
    "    if error.response[\"Error\"][\"Code\"] == \"AccessDeniedException\":\n",
    "        print(\n",
    "            f\"\\x1b[41m{error.response['Error']['Message']}\\\n",
    "                \\nTo troubeshoot this issue please refer to the following resources.\\\n",
    "                 \\nhttps://docs.aws.amazon.com/IAM/latest/UserGuide/troubleshoot_access-denied.html\\\n",
    "                 \\nhttps://docs.aws.amazon.com/bedrock/latest/userguide/security-iam.html\\x1b[0m\\n\"\n",
    "        )\n",
    "\n",
    "    else:\n",
    "        raise error"
   ]
  },
  {
   "cell_type": "code",
   "execution_count": null,
   "id": "d020424d-8f12-4134-8afd-6cc5e3fb5853",
   "metadata": {},
   "outputs": [],
   "source": []
  }
 ],
 "metadata": {
  "kernelspec": {
   "display_name": "Python 3 (ipykernel)",
   "language": "python",
   "name": "python3"
  },
  "language_info": {
   "codemirror_mode": {
    "name": "ipython",
    "version": 3
   },
   "file_extension": ".py",
   "mimetype": "text/x-python",
   "name": "python",
   "nbconvert_exporter": "python",
   "pygments_lexer": "ipython3",
   "version": "3.11.11"
  }
 },
 "nbformat": 4,
 "nbformat_minor": 5
}
